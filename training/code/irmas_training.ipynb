{
  "nbformat": 4,
  "nbformat_minor": 0,
  "metadata": {
    "colab": {
      "name": "irmas-training.ipynb",
      "provenance": [],
      "collapsed_sections": [],
      "toc_visible": true
    },
    "kernelspec": {
      "name": "python3",
      "display_name": "Python 3"
    }
  },
  "cells": [
    {
      "cell_type": "markdown",
      "metadata": {
        "id": "GKn-RRolwC_A"
      },
      "source": [
        "# Training a model on the irmas dataset\r\n",
        "\r\n",
        "This notebook should give a brief overview on how a model can be trained on the irmas dataset."
      ]
    },
    {
      "cell_type": "code",
      "metadata": {
        "id": "78OXvLIAv89e"
      },
      "source": [
        "import numpy as np\r\n",
        "import pandas as pd\r\n",
        "from tensorflow.keras.models import Sequential\r\n",
        "from tensorflow.keras.layers import Dense, Dropout, BatchNormalization\r\n",
        "from tensorflow.keras.callbacks import TensorBoard\r\n",
        "\r\n",
        "\r\n",
        "df = pd.read_csv('/content/20201227-102104-domain-0_025.csv', sep=',', header=0, index_col=0)\r\n",
        "df = df.sample(frac=1).reset_index(drop=True)\r\n",
        "\r\n",
        "X = df.iloc[:, 0:21]\r\n",
        "Y = df.iloc[:, 21:31]"
      ],
      "execution_count": null,
      "outputs": []
    },
    {
      "cell_type": "code",
      "metadata": {
        "id": "8ykyap2M1sn9"
      },
      "source": [
        "model = Sequential()\r\n",
        "\r\n",
        "#input layer\r\n",
        "model.add(Dense(256, input_dim=21, activation='relu'))\r\n",
        "model.add(Dropout(0.2))\r\n",
        "model.add(BatchNormalization())\r\n",
        "\r\n",
        "#hidden layers\r\n",
        "for _ in range(8):\r\n",
        "  model.add(Dense(1024, activation='relu'))\r\n",
        "  model.add(Dropout(0.2))\r\n",
        "  model.add(BatchNormalization())\r\n",
        "\r\n",
        "#output layer\r\n",
        "model.add(Dense(10, activation='softmax'))\r\n",
        "  \r\n",
        "model.compile(loss='categorical_crossentropy',\r\n",
        "              optimizer = 'adam',\r\n",
        "              metrics = ['categorical_accuracy'])\r\n",
        "\r\n",
        "tensorboard = TensorBoard(log_dir='./Graph', histogram_freq=0,  \r\n",
        "          write_graph=True, write_images=True)"
      ],
      "execution_count": null,
      "outputs": []
    },
    {
      "cell_type": "code",
      "metadata": {
        "id": "9TKNuoz13v6h"
      },
      "source": [
        "model.fit(x=X,y=Y, validation_split=0.3, batch_size=30, epochs = 100, callbacks=[tensorboard])"
      ],
      "execution_count": null,
      "outputs": []
    },
    {
      "cell_type": "code",
      "metadata": {
        "id": "7izNksOK8dHL"
      },
      "source": [
        "model.save('model2712_1024_100.h5')"
      ],
      "execution_count": null,
      "outputs": []
    }
  ]
}