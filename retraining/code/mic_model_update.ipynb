{
  "nbformat": 4,
  "nbformat_minor": 0,
  "metadata": {
    "colab": {
      "name": "mic_model_update.ipynb",
      "provenance": [],
      "collapsed_sections": [],
      "toc_visible": true,
      "include_colab_link": true
    },
    "kernelspec": {
      "name": "python3",
      "display_name": "Python 3"
    }
  },
  "cells": [
    {
      "cell_type": "markdown",
      "metadata": {
        "id": "view-in-github",
        "colab_type": "text"
      },
      "source": [
        "<a href=\"https://colab.research.google.com/github/thomasbhard/mic-model-retraining/blob/master/mic_model_update.ipynb\" target=\"_parent\"><img src=\"https://colab.research.google.com/assets/colab-badge.svg\" alt=\"Open In Colab\"/></a>"
      ]
    },
    {
      "cell_type": "markdown",
      "metadata": {
        "id": "OudRufJ9Tylo",
        "colab_type": "text"
      },
      "source": [
        "# Retraining the Model with new recordings from the app\n",
        "\n",
        "- Make sure the json file with the firebase keys is in the same directory as this notebook!\n",
        "\n",
        "- Upload the h5 model you want to update and set the model filename\n",
        "\n",
        "- Don't forget to download all the files for later use if you run this in a colab environment.\n",
        "\n",
        "\n",
        "**Have fun & be safe**"
      ]
    },
    {
      "cell_type": "code",
      "metadata": {
        "id": "VPTQXx1KcjXb",
        "colab_type": "code",
        "outputId": "4fee6857-1d58-4beb-ec33-8f9dea45016d",
        "colab": {
          "base_uri": "https://localhost:8080/",
          "height": 1000
        }
      },
      "source": [
        "# setup workspace\n",
        "pip install firebase_admin"
      ],
      "execution_count": 0,
      "outputs": [
        {
          "output_type": "stream",
          "text": [
            "Collecting firebase_admin\n",
            "\u001b[?25l  Downloading https://files.pythonhosted.org/packages/49/b1/ba41c23eb0f7895a4db5a03255bfeec0f54ee8b70374dc68ff2586cafaa5/firebase_admin-3.2.1-py2.py3-none-any.whl (82kB)\n",
            "\r\u001b[K     |████                            | 10kB 21.7MB/s eta 0:00:01\r\u001b[K     |████████                        | 20kB 5.1MB/s eta 0:00:01\r\u001b[K     |████████████                    | 30kB 6.2MB/s eta 0:00:01\r\u001b[K     |███████████████▉                | 40kB 5.4MB/s eta 0:00:01\r\u001b[K     |███████████████████▉            | 51kB 5.7MB/s eta 0:00:01\r\u001b[K     |███████████████████████▉        | 61kB 6.7MB/s eta 0:00:01\r\u001b[K     |███████████████████████████▉    | 71kB 6.9MB/s eta 0:00:01\r\u001b[K     |███████████████████████████████▊| 81kB 7.2MB/s eta 0:00:01\r\u001b[K     |████████████████████████████████| 92kB 5.5MB/s \n",
            "\u001b[?25hRequirement already satisfied: six>=1.6.1 in /usr/local/lib/python3.6/dist-packages (from firebase_admin) (1.12.0)\n",
            "Collecting google-cloud-storage>=1.18.0\n",
            "\u001b[?25l  Downloading https://files.pythonhosted.org/packages/cd/6d/75c2a47af99d15aa8b4de4e66226c128e623f8c9d3e27a8588368ccc38fc/google_cloud_storage-1.25.0-py2.py3-none-any.whl (73kB)\n",
            "\r\u001b[K     |████▌                           | 10kB 28.9MB/s eta 0:00:01\r\u001b[K     |█████████                       | 20kB 8.0MB/s eta 0:00:01\r\u001b[K     |█████████████▍                  | 30kB 11.3MB/s eta 0:00:01\r\u001b[K     |█████████████████▉              | 40kB 8.6MB/s eta 0:00:01\r\u001b[K     |██████████████████████▎         | 51kB 7.3MB/s eta 0:00:01\r\u001b[K     |██████████████████████████▊     | 61kB 8.5MB/s eta 0:00:01\r\u001b[K     |███████████████████████████████▎| 71kB 8.7MB/s eta 0:00:01\r\u001b[K     |████████████████████████████████| 81kB 6.1MB/s \n",
            "\u001b[?25hRequirement already satisfied: google-api-core[grpc]<2.0.0dev,>=1.14.0; platform_python_implementation != \"PyPy\" in /usr/local/lib/python3.6/dist-packages (from firebase_admin) (1.15.0)\n",
            "Collecting cachecontrol>=0.12.4\n",
            "  Downloading https://files.pythonhosted.org/packages/18/71/0a9df4206a5dc5ae7609c41efddab2270a2c1ff61d39de7591dc7302ef89/CacheControl-0.12.6-py2.py3-none-any.whl\n",
            "Collecting google-cloud-firestore>=1.4.0; platform_python_implementation != \"PyPy\"\n",
            "\u001b[?25l  Downloading https://files.pythonhosted.org/packages/32/b1/ef2095d777ca2505efa8182bea155f2ce8bab099224579feb1d309449076/google_cloud_firestore-1.6.1-py2.py3-none-any.whl (333kB)\n",
            "\u001b[K     |████████████████████████████████| 337kB 11.4MB/s \n",
            "\u001b[?25hRequirement already satisfied: google-api-python-client>=1.7.8 in /usr/local/lib/python3.6/dist-packages (from firebase_admin) (1.7.11)\n",
            "Collecting google-auth<2.0dev,>=1.9.0\n",
            "\u001b[?25l  Downloading https://files.pythonhosted.org/packages/1c/6d/7aae38a9022f982cf8167775c7fc299f203417b698c27080ce09060bba07/google_auth-1.11.0-py2.py3-none-any.whl (76kB)\n",
            "\u001b[K     |████████████████████████████████| 81kB 9.4MB/s \n",
            "\u001b[?25hCollecting google-cloud-core<2.0dev,>=1.2.0\n",
            "  Downloading https://files.pythonhosted.org/packages/45/26/09d7aebd08dcfcfb0873d727b716c8ab3dc7dc5b44f09d192c724e03d374/google_cloud_core-1.2.0-py2.py3-none-any.whl\n",
            "Collecting google-resumable-media<0.6dev,>=0.5.0\n",
            "  Downloading https://files.pythonhosted.org/packages/35/9e/f73325d0466ce5bdc36333f1aeb2892ead7b76e79bdb5c8b0493961fa098/google_resumable_media-0.5.0-py2.py3-none-any.whl\n",
            "Requirement already satisfied: protobuf>=3.4.0 in /usr/local/lib/python3.6/dist-packages (from google-api-core[grpc]<2.0.0dev,>=1.14.0; platform_python_implementation != \"PyPy\"->firebase_admin) (3.10.0)\n",
            "Requirement already satisfied: pytz in /usr/local/lib/python3.6/dist-packages (from google-api-core[grpc]<2.0.0dev,>=1.14.0; platform_python_implementation != \"PyPy\"->firebase_admin) (2018.9)\n",
            "Requirement already satisfied: googleapis-common-protos<2.0dev,>=1.6.0 in /usr/local/lib/python3.6/dist-packages (from google-api-core[grpc]<2.0.0dev,>=1.14.0; platform_python_implementation != \"PyPy\"->firebase_admin) (1.6.0)\n",
            "Requirement already satisfied: requests<3.0.0dev,>=2.18.0 in /usr/local/lib/python3.6/dist-packages (from google-api-core[grpc]<2.0.0dev,>=1.14.0; platform_python_implementation != \"PyPy\"->firebase_admin) (2.21.0)\n",
            "Requirement already satisfied: setuptools>=34.0.0 in /usr/local/lib/python3.6/dist-packages (from google-api-core[grpc]<2.0.0dev,>=1.14.0; platform_python_implementation != \"PyPy\"->firebase_admin) (42.0.2)\n",
            "Requirement already satisfied: grpcio<2.0dev,>=1.8.2; extra == \"grpc\" in /usr/local/lib/python3.6/dist-packages (from google-api-core[grpc]<2.0.0dev,>=1.14.0; platform_python_implementation != \"PyPy\"->firebase_admin) (1.15.0)\n",
            "Requirement already satisfied: msgpack>=0.5.2 in /usr/local/lib/python3.6/dist-packages (from cachecontrol>=0.12.4->firebase_admin) (0.5.6)\n",
            "Requirement already satisfied: google-auth-httplib2>=0.0.3 in /usr/local/lib/python3.6/dist-packages (from google-api-python-client>=1.7.8->firebase_admin) (0.0.3)\n",
            "Requirement already satisfied: uritemplate<4dev,>=3.0.0 in /usr/local/lib/python3.6/dist-packages (from google-api-python-client>=1.7.8->firebase_admin) (3.0.1)\n",
            "Requirement already satisfied: httplib2<1dev,>=0.9.2 in /usr/local/lib/python3.6/dist-packages (from google-api-python-client>=1.7.8->firebase_admin) (0.11.3)\n",
            "Requirement already satisfied: cachetools<5.0,>=2.0.0 in /usr/local/lib/python3.6/dist-packages (from google-auth<2.0dev,>=1.9.0->google-cloud-storage>=1.18.0->firebase_admin) (4.0.0)\n",
            "Requirement already satisfied: pyasn1-modules>=0.2.1 in /usr/local/lib/python3.6/dist-packages (from google-auth<2.0dev,>=1.9.0->google-cloud-storage>=1.18.0->firebase_admin) (0.2.7)\n",
            "Requirement already satisfied: rsa<4.1,>=3.1.4 in /usr/local/lib/python3.6/dist-packages (from google-auth<2.0dev,>=1.9.0->google-cloud-storage>=1.18.0->firebase_admin) (4.0)\n",
            "Requirement already satisfied: urllib3<1.25,>=1.21.1 in /usr/local/lib/python3.6/dist-packages (from requests<3.0.0dev,>=2.18.0->google-api-core[grpc]<2.0.0dev,>=1.14.0; platform_python_implementation != \"PyPy\"->firebase_admin) (1.24.3)\n",
            "Requirement already satisfied: idna<2.9,>=2.5 in /usr/local/lib/python3.6/dist-packages (from requests<3.0.0dev,>=2.18.0->google-api-core[grpc]<2.0.0dev,>=1.14.0; platform_python_implementation != \"PyPy\"->firebase_admin) (2.8)\n",
            "Requirement already satisfied: chardet<3.1.0,>=3.0.2 in /usr/local/lib/python3.6/dist-packages (from requests<3.0.0dev,>=2.18.0->google-api-core[grpc]<2.0.0dev,>=1.14.0; platform_python_implementation != \"PyPy\"->firebase_admin) (3.0.4)\n",
            "Requirement already satisfied: certifi>=2017.4.17 in /usr/local/lib/python3.6/dist-packages (from requests<3.0.0dev,>=2.18.0->google-api-core[grpc]<2.0.0dev,>=1.14.0; platform_python_implementation != \"PyPy\"->firebase_admin) (2019.11.28)\n",
            "Requirement already satisfied: pyasn1<0.5.0,>=0.4.6 in /usr/local/lib/python3.6/dist-packages (from pyasn1-modules>=0.2.1->google-auth<2.0dev,>=1.9.0->google-cloud-storage>=1.18.0->firebase_admin) (0.4.8)\n",
            "\u001b[31mERROR: google-colab 1.0.0 has requirement google-auth~=1.4.0, but you'll have google-auth 1.11.0 which is incompatible.\u001b[0m\n",
            "\u001b[31mERROR: google-cloud-core 1.2.0 has requirement google-api-core<2.0.0dev,>=1.16.0, but you'll have google-api-core 1.15.0 which is incompatible.\u001b[0m\n",
            "\u001b[31mERROR: google-cloud-bigquery 1.21.0 has requirement google-resumable-media!=0.4.0,<0.5.0dev,>=0.3.1, but you'll have google-resumable-media 0.5.0 which is incompatible.\u001b[0m\n",
            "Installing collected packages: google-auth, google-cloud-core, google-resumable-media, google-cloud-storage, cachecontrol, google-cloud-firestore, firebase-admin\n",
            "  Found existing installation: google-auth 1.4.2\n",
            "    Uninstalling google-auth-1.4.2:\n",
            "      Successfully uninstalled google-auth-1.4.2\n",
            "  Found existing installation: google-cloud-core 1.0.3\n",
            "    Uninstalling google-cloud-core-1.0.3:\n",
            "      Successfully uninstalled google-cloud-core-1.0.3\n",
            "  Found existing installation: google-resumable-media 0.4.1\n",
            "    Uninstalling google-resumable-media-0.4.1:\n",
            "      Successfully uninstalled google-resumable-media-0.4.1\n",
            "  Found existing installation: google-cloud-storage 1.16.2\n",
            "    Uninstalling google-cloud-storage-1.16.2:\n",
            "      Successfully uninstalled google-cloud-storage-1.16.2\n",
            "Successfully installed cachecontrol-0.12.6 firebase-admin-3.2.1 google-auth-1.11.0 google-cloud-core-1.2.0 google-cloud-firestore-1.6.1 google-cloud-storage-1.25.0 google-resumable-media-0.5.0\n"
          ],
          "name": "stdout"
        },
        {
          "output_type": "display_data",
          "data": {
            "application/vnd.colab-display-data+json": {
              "pip_warning": {
                "packages": [
                  "google"
                ]
              }
            }
          },
          "metadata": {
            "tags": []
          }
        }
      ]
    },
    {
      "cell_type": "code",
      "metadata": {
        "id": "6uFCFa2WX8SL",
        "colab_type": "code",
        "colab": {}
      },
      "source": [
        "# filenames to load and store models\n",
        "current_model = 'm1578220494_first=rel_batTrues12.h5'\n",
        "new_model = 'retrained_model.h5'\n",
        "new_model_lite = 'retrainded_model.tflite'"
      ],
      "execution_count": 0,
      "outputs": []
    },
    {
      "cell_type": "code",
      "metadata": {
        "id": "MqSKJnREeOJn",
        "colab_type": "code",
        "outputId": "bda46b5f-5b5a-4e4f-9ff3-1025681cffd7",
        "colab": {
          "base_uri": "https://localhost:8080/",
          "height": 35
        }
      },
      "source": [
        "# setup firebase\n",
        "import firebase_admin\n",
        "from firebase_admin import credentials\n",
        "from firebase_admin import firestore\n",
        "\n",
        "\n",
        "cred = credentials.Certificate('mic-training-firebase-adminsdk-upqap-539c749b5b.json')\n",
        "firebase_admin.initialize_app(cred)\n",
        "\n",
        "db = firestore.client()\n",
        "print('Firebase connection successful!')"
      ],
      "execution_count": 0,
      "outputs": [
        {
          "output_type": "stream",
          "text": [
            "Firebase connection successful!\n"
          ],
          "name": "stdout"
        }
      ]
    },
    {
      "cell_type": "code",
      "metadata": {
        "id": "Rz1obE27eqkY",
        "colab_type": "code",
        "outputId": "005100fa-b22f-468d-9520-c1c0551e19fb",
        "colab": {
          "base_uri": "https://localhost:8080/",
          "height": 52
        }
      },
      "source": [
        "# Collect data\n",
        "collection = db.collection(u'recordings')\n",
        "\n",
        "recordings = collection.stream()\n",
        "\n",
        "features = []\n",
        "labels = []\n",
        "\n",
        "for recording in recordings:\n",
        "  data = recording.to_dict()\n",
        "  samples = data['samples']\n",
        "  label = data['label']\n",
        "  # print(label)\n",
        "\n",
        "  features.append(samples)\n",
        "  labels.append(label)\n",
        "\n",
        "print(str(len(features)) + ' features collected')\n",
        "print(str(len(labels)) + ' labels collected')\n"
      ],
      "execution_count": 0,
      "outputs": [
        {
          "output_type": "stream",
          "text": [
            "385 features collected\n",
            "385 labels collected\n"
          ],
          "name": "stdout"
        }
      ]
    },
    {
      "cell_type": "code",
      "metadata": {
        "id": "PdfKRWl8hZgD",
        "colab_type": "code",
        "outputId": "0e5176af-86b1-4d17-a06b-ad861c703ae6",
        "colab": {
          "base_uri": "https://localhost:8080/",
          "height": 153
        }
      },
      "source": [
        "# Process features and labels\n",
        "import numpy as np\n",
        "from sklearn.preprocessing import LabelEncoder\n",
        "from keras.utils.np_utils import to_categorical\n",
        "\n",
        "# change full instrument names to one_hot_encoded label vectors\n",
        "instruments = ['cel', 'cla', 'flu', 'gac', 'gel', 'org', 'pia', 'sax', 'tru', 'vio']\n",
        "fullnames = {'Cello': 'cel','Clarinet': 'cla','Flute': 'flu','Acustic Guitar': 'gac', 'Electric Guitar': 'gel','Organ': 'org', 'Piano': 'pia','Saxophone': 'sax','Trumpet': 'tru','Violin': 'vio'}\n",
        "\n",
        "label_encoder = LabelEncoder()\n",
        "label_encoder.fit(instruments)\n",
        "\n",
        "labels_trans = [fullnames[label] for label in labels]\n",
        "labels_enc = label_encoder.transform(labels_trans)\n",
        "labels_one_hot = to_categorical(labels_enc, num_classes=10)\n",
        "\n",
        "# scale each feature vector to np array between -1.0 and 1.0\n",
        "features_np = []\n",
        "\n",
        "for feature in features:\n",
        "  feature_np = np.array(feature, dtype=np.float32)\n",
        "  feature_max = np.max(np.abs(feature_np))\n",
        "  if max != 0:\n",
        "    feature_np /= feature_max\n",
        "  features_np.append(feature_np)\n",
        "\n",
        "print('Processed features and labels')"
      ],
      "execution_count": 0,
      "outputs": [
        {
          "output_type": "stream",
          "text": [
            "Using TensorFlow backend.\n"
          ],
          "name": "stderr"
        },
        {
          "output_type": "display_data",
          "data": {
            "text/html": [
              "<p style=\"color: red;\">\n",
              "The default version of TensorFlow in Colab will soon switch to TensorFlow 2.x.<br>\n",
              "We recommend you <a href=\"https://www.tensorflow.org/guide/migrate\" target=\"_blank\">upgrade</a> now \n",
              "or ensure your notebook will continue to use TensorFlow 1.x via the <code>%tensorflow_version 1.x</code> magic:\n",
              "<a href=\"https://colab.research.google.com/notebooks/tensorflow_version.ipynb\" target=\"_blank\">more info</a>.</p>\n"
            ],
            "text/plain": [
              "<IPython.core.display.HTML object>"
            ]
          },
          "metadata": {
            "tags": []
          }
        },
        {
          "output_type": "stream",
          "text": [
            "Processed features and labels\n"
          ],
          "name": "stdout"
        },
        {
          "output_type": "stream",
          "text": [
            "/usr/local/lib/python3.6/dist-packages/ipykernel_launcher.py:23: RuntimeWarning: invalid value encountered in true_divide\n"
          ],
          "name": "stderr"
        }
      ]
    },
    {
      "cell_type": "code",
      "metadata": {
        "id": "HLBVpWhdkJD-",
        "colab_type": "code",
        "colab": {}
      },
      "source": [
        "# create dataframe\n",
        "import pandas as pd\n",
        "\n",
        "\n",
        "df_features = pd.DataFrame(features_np)\n",
        "df_features.columns = ['Sample ' + str(i) for i in range(2048)]\n",
        "\n",
        "df_labels = pd.DataFrame(labels_one_hot)\n",
        "df_labels.columns = instruments\n",
        "\n",
        "assert len(df_features.index) == len(df_labels.index)\n",
        "\n",
        "df = pd.concat([df_features, df_labels], axis=1, join='inner')\n",
        "\n",
        "print(df.head())"
      ],
      "execution_count": 0,
      "outputs": []
    },
    {
      "cell_type": "code",
      "metadata": {
        "id": "Tunm4NcslS01",
        "colab_type": "code",
        "colab": {}
      },
      "source": [
        "# save csv\n",
        "import time\n",
        "\n",
        "outfilebase = time.strftime(\"%Y%m%d-%H%M%S\", time.gmtime(time.time()))\n",
        "outfilename = outfilebase + '-slice-2048.csv'\n",
        "\n",
        "df.to_csv(outfilename)"
      ],
      "execution_count": 0,
      "outputs": []
    },
    {
      "cell_type": "code",
      "metadata": {
        "id": "5szYLyxpVoor",
        "colab_type": "code",
        "colab": {}
      },
      "source": [
        "# Prepare dataframe for training\n",
        "df = df.sample(frac=1.0)\n",
        "\n",
        "X = df.iloc[:, :-10]\n",
        "X = np.expand_dims(X, axis=2)\n",
        "\n",
        "Y = df.iloc[:, -10:].values"
      ],
      "execution_count": 0,
      "outputs": []
    },
    {
      "cell_type": "code",
      "metadata": {
        "id": "fddyqtKAVYBa",
        "colab_type": "code",
        "colab": {}
      },
      "source": [
        "# update model\n",
        "from tensorflow.keras.models import load_model\n",
        "\n",
        "model = load_model(current_model)\n",
        "model.train_on_batch(X, y=Y)\n",
        "model.save(new_model)"
      ],
      "execution_count": 0,
      "outputs": []
    },
    {
      "cell_type": "code",
      "metadata": {
        "id": "dB7NEH92WOfM",
        "colab_type": "code",
        "colab": {}
      },
      "source": [
        "# convert to tflite\n",
        "import tensorflow as tf\n",
        "\n",
        "converter = tf.lite.TFLiteConverter.from_keras_model_file(new_model)\n",
        "tflite_model = converter.convert()\n",
        "\n",
        "file = open(new_model_lite, 'wb' ) \n",
        "file.write(tflite_model)"
      ],
      "execution_count": 0,
      "outputs": []
    }
  ]
}